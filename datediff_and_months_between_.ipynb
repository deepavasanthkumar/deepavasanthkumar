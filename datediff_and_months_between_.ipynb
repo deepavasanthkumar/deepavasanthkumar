{
  "nbformat": 4,
  "nbformat_minor": 0,
  "metadata": {
    "colab": {
      "provenance": [],
      "authorship_tag": "ABX9TyO5qe/02wMeRFxVWWQVCb1t",
      "include_colab_link": true
    },
    "kernelspec": {
      "name": "python3",
      "display_name": "Python 3"
    },
    "language_info": {
      "name": "python"
    }
  },
  "cells": [
    {
      "cell_type": "markdown",
      "metadata": {
        "id": "view-in-github",
        "colab_type": "text"
      },
      "source": [
        "<a href=\"https://colab.research.google.com/github/deepavasanthkumar/deepavasanthkumar/blob/main/datediff_and_months_between_.ipynb\" target=\"_parent\"><img src=\"https://colab.research.google.com/assets/colab-badge.svg\" alt=\"Open In Colab\"/></a>"
      ]
    },
    {
      "cell_type": "code",
      "execution_count": 1,
      "metadata": {
        "colab": {
          "base_uri": "https://localhost:8080/"
        },
        "id": "V0IM320qIOjh",
        "outputId": "9bd249b3-d81d-4d68-98d1-76eb1fd860a0"
      },
      "outputs": [
        {
          "output_type": "stream",
          "name": "stdout",
          "text": [
            "Looking in indexes: https://pypi.org/simple, https://us-python.pkg.dev/colab-wheels/public/simple/\n",
            "Collecting pyspark\n",
            "  Downloading pyspark-3.4.0.tar.gz (310.8 MB)\n",
            "\u001b[2K     \u001b[90m━━━━━━━━━━━━━━━━━━━━━━━━━━━━━━━━━━━━━━━\u001b[0m \u001b[32m310.8/310.8 MB\u001b[0m \u001b[31m3.2 MB/s\u001b[0m eta \u001b[36m0:00:00\u001b[0m\n",
            "\u001b[?25h  Preparing metadata (setup.py) ... \u001b[?25l\u001b[?25hdone\n",
            "Requirement already satisfied: py4j==0.10.9.7 in /usr/local/lib/python3.10/dist-packages (from pyspark) (0.10.9.7)\n",
            "Building wheels for collected packages: pyspark\n",
            "  Building wheel for pyspark (setup.py) ... \u001b[?25l\u001b[?25hdone\n",
            "  Created wheel for pyspark: filename=pyspark-3.4.0-py2.py3-none-any.whl size=311317130 sha256=c47d5f24d921a301918eecd556af9b02f007473b659f2c0480606653e20f6e7b\n",
            "  Stored in directory: /root/.cache/pip/wheels/7b/1b/4b/3363a1d04368e7ff0d408e57ff57966fcdf00583774e761327\n",
            "Successfully built pyspark\n",
            "Installing collected packages: pyspark\n",
            "Successfully installed pyspark-3.4.0\n"
          ]
        }
      ],
      "source": [
        "!pip install pyspark"
      ]
    },
    {
      "cell_type": "code",
      "source": [
        "from pyspark.sql import SparkSession\n",
        "  \n",
        "spark = SparkSession.builder.appName(\"DateDiffernceApp\").getOrCreate()"
      ],
      "metadata": {
        "id": "7Fd6JjvKIV9e"
      },
      "execution_count": 3,
      "outputs": []
    },
    {
      "cell_type": "code",
      "source": [
        "from google.colab import files\n",
        "uploaded = files.upload()"
      ],
      "metadata": {
        "colab": {
          "base_uri": "https://localhost:8080/",
          "height": 73
        },
        "id": "PjCiGLzpIZIm",
        "outputId": "3ced8682-d624-459b-9e50-a36e983a40ec"
      },
      "execution_count": 5,
      "outputs": [
        {
          "output_type": "display_data",
          "data": {
            "text/plain": [
              "<IPython.core.display.HTML object>"
            ],
            "text/html": [
              "\n",
              "     <input type=\"file\" id=\"files-74798273-a2cd-4f9d-8370-d34b28fe15e7\" name=\"files[]\" multiple disabled\n",
              "        style=\"border:none\" />\n",
              "     <output id=\"result-74798273-a2cd-4f9d-8370-d34b28fe15e7\">\n",
              "      Upload widget is only available when the cell has been executed in the\n",
              "      current browser session. Please rerun this cell to enable.\n",
              "      </output>\n",
              "      <script>// Copyright 2017 Google LLC\n",
              "//\n",
              "// Licensed under the Apache License, Version 2.0 (the \"License\");\n",
              "// you may not use this file except in compliance with the License.\n",
              "// You may obtain a copy of the License at\n",
              "//\n",
              "//      http://www.apache.org/licenses/LICENSE-2.0\n",
              "//\n",
              "// Unless required by applicable law or agreed to in writing, software\n",
              "// distributed under the License is distributed on an \"AS IS\" BASIS,\n",
              "// WITHOUT WARRANTIES OR CONDITIONS OF ANY KIND, either express or implied.\n",
              "// See the License for the specific language governing permissions and\n",
              "// limitations under the License.\n",
              "\n",
              "/**\n",
              " * @fileoverview Helpers for google.colab Python module.\n",
              " */\n",
              "(function(scope) {\n",
              "function span(text, styleAttributes = {}) {\n",
              "  const element = document.createElement('span');\n",
              "  element.textContent = text;\n",
              "  for (const key of Object.keys(styleAttributes)) {\n",
              "    element.style[key] = styleAttributes[key];\n",
              "  }\n",
              "  return element;\n",
              "}\n",
              "\n",
              "// Max number of bytes which will be uploaded at a time.\n",
              "const MAX_PAYLOAD_SIZE = 100 * 1024;\n",
              "\n",
              "function _uploadFiles(inputId, outputId) {\n",
              "  const steps = uploadFilesStep(inputId, outputId);\n",
              "  const outputElement = document.getElementById(outputId);\n",
              "  // Cache steps on the outputElement to make it available for the next call\n",
              "  // to uploadFilesContinue from Python.\n",
              "  outputElement.steps = steps;\n",
              "\n",
              "  return _uploadFilesContinue(outputId);\n",
              "}\n",
              "\n",
              "// This is roughly an async generator (not supported in the browser yet),\n",
              "// where there are multiple asynchronous steps and the Python side is going\n",
              "// to poll for completion of each step.\n",
              "// This uses a Promise to block the python side on completion of each step,\n",
              "// then passes the result of the previous step as the input to the next step.\n",
              "function _uploadFilesContinue(outputId) {\n",
              "  const outputElement = document.getElementById(outputId);\n",
              "  const steps = outputElement.steps;\n",
              "\n",
              "  const next = steps.next(outputElement.lastPromiseValue);\n",
              "  return Promise.resolve(next.value.promise).then((value) => {\n",
              "    // Cache the last promise value to make it available to the next\n",
              "    // step of the generator.\n",
              "    outputElement.lastPromiseValue = value;\n",
              "    return next.value.response;\n",
              "  });\n",
              "}\n",
              "\n",
              "/**\n",
              " * Generator function which is called between each async step of the upload\n",
              " * process.\n",
              " * @param {string} inputId Element ID of the input file picker element.\n",
              " * @param {string} outputId Element ID of the output display.\n",
              " * @return {!Iterable<!Object>} Iterable of next steps.\n",
              " */\n",
              "function* uploadFilesStep(inputId, outputId) {\n",
              "  const inputElement = document.getElementById(inputId);\n",
              "  inputElement.disabled = false;\n",
              "\n",
              "  const outputElement = document.getElementById(outputId);\n",
              "  outputElement.innerHTML = '';\n",
              "\n",
              "  const pickedPromise = new Promise((resolve) => {\n",
              "    inputElement.addEventListener('change', (e) => {\n",
              "      resolve(e.target.files);\n",
              "    });\n",
              "  });\n",
              "\n",
              "  const cancel = document.createElement('button');\n",
              "  inputElement.parentElement.appendChild(cancel);\n",
              "  cancel.textContent = 'Cancel upload';\n",
              "  const cancelPromise = new Promise((resolve) => {\n",
              "    cancel.onclick = () => {\n",
              "      resolve(null);\n",
              "    };\n",
              "  });\n",
              "\n",
              "  // Wait for the user to pick the files.\n",
              "  const files = yield {\n",
              "    promise: Promise.race([pickedPromise, cancelPromise]),\n",
              "    response: {\n",
              "      action: 'starting',\n",
              "    }\n",
              "  };\n",
              "\n",
              "  cancel.remove();\n",
              "\n",
              "  // Disable the input element since further picks are not allowed.\n",
              "  inputElement.disabled = true;\n",
              "\n",
              "  if (!files) {\n",
              "    return {\n",
              "      response: {\n",
              "        action: 'complete',\n",
              "      }\n",
              "    };\n",
              "  }\n",
              "\n",
              "  for (const file of files) {\n",
              "    const li = document.createElement('li');\n",
              "    li.append(span(file.name, {fontWeight: 'bold'}));\n",
              "    li.append(span(\n",
              "        `(${file.type || 'n/a'}) - ${file.size} bytes, ` +\n",
              "        `last modified: ${\n",
              "            file.lastModifiedDate ? file.lastModifiedDate.toLocaleDateString() :\n",
              "                                    'n/a'} - `));\n",
              "    const percent = span('0% done');\n",
              "    li.appendChild(percent);\n",
              "\n",
              "    outputElement.appendChild(li);\n",
              "\n",
              "    const fileDataPromise = new Promise((resolve) => {\n",
              "      const reader = new FileReader();\n",
              "      reader.onload = (e) => {\n",
              "        resolve(e.target.result);\n",
              "      };\n",
              "      reader.readAsArrayBuffer(file);\n",
              "    });\n",
              "    // Wait for the data to be ready.\n",
              "    let fileData = yield {\n",
              "      promise: fileDataPromise,\n",
              "      response: {\n",
              "        action: 'continue',\n",
              "      }\n",
              "    };\n",
              "\n",
              "    // Use a chunked sending to avoid message size limits. See b/62115660.\n",
              "    let position = 0;\n",
              "    do {\n",
              "      const length = Math.min(fileData.byteLength - position, MAX_PAYLOAD_SIZE);\n",
              "      const chunk = new Uint8Array(fileData, position, length);\n",
              "      position += length;\n",
              "\n",
              "      const base64 = btoa(String.fromCharCode.apply(null, chunk));\n",
              "      yield {\n",
              "        response: {\n",
              "          action: 'append',\n",
              "          file: file.name,\n",
              "          data: base64,\n",
              "        },\n",
              "      };\n",
              "\n",
              "      let percentDone = fileData.byteLength === 0 ?\n",
              "          100 :\n",
              "          Math.round((position / fileData.byteLength) * 100);\n",
              "      percent.textContent = `${percentDone}% done`;\n",
              "\n",
              "    } while (position < fileData.byteLength);\n",
              "  }\n",
              "\n",
              "  // All done.\n",
              "  yield {\n",
              "    response: {\n",
              "      action: 'complete',\n",
              "    }\n",
              "  };\n",
              "}\n",
              "\n",
              "scope.google = scope.google || {};\n",
              "scope.google.colab = scope.google.colab || {};\n",
              "scope.google.colab._files = {\n",
              "  _uploadFiles,\n",
              "  _uploadFilesContinue,\n",
              "};\n",
              "})(self);\n",
              "</script> "
            ]
          },
          "metadata": {}
        },
        {
          "output_type": "stream",
          "name": "stdout",
          "text": [
            "Saving DailyDelhiClimateTrain.csv to DailyDelhiClimateTrain.csv\n"
          ]
        }
      ]
    },
    {
      "cell_type": "code",
      "source": [
        "df = spark.read.csv('DailyDelhiClimateTrain.csv', inferSchema=True, header=True, sep = \",\")\n",
        "df.printSchema()"
      ],
      "metadata": {
        "colab": {
          "base_uri": "https://localhost:8080/"
        },
        "id": "jiOjfBWgIeX9",
        "outputId": "cd3f3977-ab60-4025-9690-b297d9f8a901"
      },
      "execution_count": 6,
      "outputs": [
        {
          "output_type": "stream",
          "name": "stdout",
          "text": [
            "root\n",
            " |-- date: date (nullable = true)\n",
            " |-- meantemp: double (nullable = true)\n",
            " |-- humidity: double (nullable = true)\n",
            " |-- wind_speed: double (nullable = true)\n",
            " |-- meanpressure: double (nullable = true)\n",
            "\n"
          ]
        }
      ]
    },
    {
      "cell_type": "code",
      "source": [
        "from pyspark.sql.functions import current_timestamp, datediff, months_between, round, col"
      ],
      "metadata": {
        "id": "46a8RYSpJGvg"
      },
      "execution_count": 16,
      "outputs": []
    },
    {
      "cell_type": "code",
      "source": [
        "df = df.withColumn(\"current_ts\", current_timestamp())\n",
        "df.select(df.date, df.current_ts).show(10, True)"
      ],
      "metadata": {
        "colab": {
          "base_uri": "https://localhost:8080/"
        },
        "id": "o1uUV3NnIpHJ",
        "outputId": "a3d09434-589b-43d3-b736-9b45dae97f77"
      },
      "execution_count": 11,
      "outputs": [
        {
          "output_type": "stream",
          "name": "stdout",
          "text": [
            "+----------+--------------------+\n",
            "|      date|          current_ts|\n",
            "+----------+--------------------+\n",
            "|2013-01-01|2023-05-23 05:47:...|\n",
            "|2013-01-02|2023-05-23 05:47:...|\n",
            "|2013-01-03|2023-05-23 05:47:...|\n",
            "|2013-01-04|2023-05-23 05:47:...|\n",
            "|2013-01-05|2023-05-23 05:47:...|\n",
            "|2013-01-06|2023-05-23 05:47:...|\n",
            "|2013-01-07|2023-05-23 05:47:...|\n",
            "|2013-01-08|2023-05-23 05:47:...|\n",
            "|2013-01-09|2023-05-23 05:47:...|\n",
            "|2013-01-10|2023-05-23 05:47:...|\n",
            "+----------+--------------------+\n",
            "only showing top 10 rows\n",
            "\n"
          ]
        }
      ]
    },
    {
      "cell_type": "markdown",
      "source": [
        "#datediff \n",
        "Returns the number of days from start to end."
      ],
      "metadata": {
        "id": "gZgnODDxJ2-p"
      }
    },
    {
      "cell_type": "code",
      "source": [
        "df.select(datediff(df.current_ts, df.date).alias('datediff'), df.date, df.current_ts).show(10, True)"
      ],
      "metadata": {
        "colab": {
          "base_uri": "https://localhost:8080/"
        },
        "id": "OTleaTGjJTqX",
        "outputId": "e6e11e17-0ad3-49c6-ef33-463a7c343e66"
      },
      "execution_count": 13,
      "outputs": [
        {
          "output_type": "stream",
          "name": "stdout",
          "text": [
            "+--------+----------+--------------------+\n",
            "|datediff|      date|          current_ts|\n",
            "+--------+----------+--------------------+\n",
            "|    3794|2013-01-01|2023-05-23 05:48:...|\n",
            "|    3793|2013-01-02|2023-05-23 05:48:...|\n",
            "|    3792|2013-01-03|2023-05-23 05:48:...|\n",
            "|    3791|2013-01-04|2023-05-23 05:48:...|\n",
            "|    3790|2013-01-05|2023-05-23 05:48:...|\n",
            "|    3789|2013-01-06|2023-05-23 05:48:...|\n",
            "|    3788|2013-01-07|2023-05-23 05:48:...|\n",
            "|    3787|2013-01-08|2023-05-23 05:48:...|\n",
            "|    3786|2013-01-09|2023-05-23 05:48:...|\n",
            "|    3785|2013-01-10|2023-05-23 05:48:...|\n",
            "+--------+----------+--------------------+\n",
            "only showing top 10 rows\n",
            "\n"
          ]
        }
      ]
    },
    {
      "cell_type": "markdown",
      "source": [
        "#months_between\n",
        "\n",
        "Calculate the months between two dates.\n",
        "If we do not need precision, could apply a round method after months_between"
      ],
      "metadata": {
        "id": "YRfd35RrLTsH"
      }
    },
    {
      "cell_type": "code",
      "source": [
        "df = df.withColumn(\"monthsDiff\", months_between(col(\"current_ts\"),col(\"date\")))\n",
        "df.select(df.monthsDiff, df.date, df.current_ts).show(10, True)"
      ],
      "metadata": {
        "colab": {
          "base_uri": "https://localhost:8080/"
        },
        "id": "pjxFlzbGKMnN",
        "outputId": "101089e4-a480-4145-ad8b-63b7bc7062fe"
      },
      "execution_count": 21,
      "outputs": [
        {
          "output_type": "stream",
          "name": "stdout",
          "text": [
            "+------------+----------+--------------------+\n",
            "|  monthsDiff|      date|          current_ts|\n",
            "+------------+----------+--------------------+\n",
            "|124.71763628|2013-01-01|2023-05-23 05:55:...|\n",
            "|124.68537821|2013-01-02|2023-05-23 05:55:...|\n",
            "|124.65312015|2013-01-03|2023-05-23 05:55:...|\n",
            "|124.62086208|2013-01-04|2023-05-23 05:55:...|\n",
            "|124.58860402|2013-01-05|2023-05-23 05:55:...|\n",
            "|124.55634595|2013-01-06|2023-05-23 05:55:...|\n",
            "|124.52408789|2013-01-07|2023-05-23 05:55:...|\n",
            "|124.49182982|2013-01-08|2023-05-23 05:55:...|\n",
            "|124.45957176|2013-01-09|2023-05-23 05:55:...|\n",
            "|124.42731369|2013-01-10|2023-05-23 05:55:...|\n",
            "+------------+----------+--------------------+\n",
            "only showing top 10 rows\n",
            "\n"
          ]
        }
      ]
    },
    {
      "cell_type": "code",
      "source": [
        "df = df.withColumn(\"monthsDiffRounded\", round(months_between(col(\"current_ts\"),col(\"date\"))))\n",
        "df.select(df.monthsDiffRounded, df.date, df.current_ts).show(10, True)"
      ],
      "metadata": {
        "colab": {
          "base_uri": "https://localhost:8080/"
        },
        "id": "sqyv1C9-LpBo",
        "outputId": "0652723a-4aed-4a70-a1c6-6a8593c268cf"
      },
      "execution_count": 22,
      "outputs": [
        {
          "output_type": "stream",
          "name": "stdout",
          "text": [
            "+-----------------+----------+--------------------+\n",
            "|monthsDiffRounded|      date|          current_ts|\n",
            "+-----------------+----------+--------------------+\n",
            "|            125.0|2013-01-01|2023-05-23 05:57:...|\n",
            "|            125.0|2013-01-02|2023-05-23 05:57:...|\n",
            "|            125.0|2013-01-03|2023-05-23 05:57:...|\n",
            "|            125.0|2013-01-04|2023-05-23 05:57:...|\n",
            "|            125.0|2013-01-05|2023-05-23 05:57:...|\n",
            "|            125.0|2013-01-06|2023-05-23 05:57:...|\n",
            "|            125.0|2013-01-07|2023-05-23 05:57:...|\n",
            "|            124.0|2013-01-08|2023-05-23 05:57:...|\n",
            "|            124.0|2013-01-09|2023-05-23 05:57:...|\n",
            "|            124.0|2013-01-10|2023-05-23 05:57:...|\n",
            "+-----------------+----------+--------------------+\n",
            "only showing top 10 rows\n",
            "\n"
          ]
        }
      ]
    }
  ]
}